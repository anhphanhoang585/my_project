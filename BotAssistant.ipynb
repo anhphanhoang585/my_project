{
 "cells": [
  {
   "cell_type": "code",
   "execution_count": 1,
   "id": "e4cc49c3",
   "metadata": {},
   "outputs": [
    {
     "name": "stderr",
     "output_type": "stream",
     "text": [
      "C:\\Users\\ADMIN\\AppData\\Local\\Packages\\PythonSoftwareFoundation.Python.3.11_qbz5n2kfra8p0\\LocalCache\\local-packages\\Python311\\site-packages\\tqdm\\auto.py:21: TqdmWarning: IProgress not found. Please update jupyter and ipywidgets. See https://ipywidgets.readthedocs.io/en/stable/user_install.html\n",
      "  from .autonotebook import tqdm as notebook_tqdm\n"
     ]
    },
    {
     "name": "stdout",
     "output_type": "stream",
     "text": [
      "* Running on local URL:  http://127.0.0.1:7862\n",
      "* Running on public URL: https://ca89b3640236575911.gradio.live\n",
      "\n",
      "This share link expires in 1 week. For free permanent hosting and GPU upgrades, run `gradio deploy` from the terminal in the working directory to deploy to Hugging Face Spaces (https://huggingface.co/spaces)\n"
     ]
    },
    {
     "data": {
      "text/html": [
       "<div><iframe src=\"https://ca89b3640236575911.gradio.live\" width=\"100%\" height=\"500\" allow=\"autoplay; camera; microphone; clipboard-read; clipboard-write;\" frameborder=\"0\" allowfullscreen></iframe></div>"
      ],
      "text/plain": [
       "<IPython.core.display.HTML object>"
      ]
     },
     "metadata": {},
     "output_type": "display_data"
    },
    {
     "data": {
      "text/plain": []
     },
     "execution_count": 1,
     "metadata": {},
     "output_type": "execute_result"
    }
   ],
   "source": [
    "import gradio as gr\n",
    "import pandas as pd\n",
    "\n",
    "car_data = pd.read_csv(\"carsdataset.csv\", encoding=\"latin1\")  \n",
    "\n",
    "def car_info_bot(question):\n",
    "    question_lower = question.lower()\n",
    "    keywords = question_lower.split()\n",
    "    \n",
    "    best_match = None\n",
    "    best_score = 0\n",
    "    \n",
    "    for i, row in car_data.iterrows():\n",
    "        row_text = \" \".join(map(str, row.values)).lower()\n",
    "        score = sum(1 for kw in keywords if kw in row_text)\n",
    "        \n",
    "        if score > best_score:\n",
    "            best_score = score\n",
    "            best_match = row\n",
    "    \n",
    "    if best_match is not None and best_score > 0:\n",
    "        return best_match.to_dict()\n",
    "    else:\n",
    "        return \"Xin lỗi, tôi không tìm thấy thông tin trong dataset.\"\n",
    "\n",
    "demo = gr.Interface(\n",
    "    fn=car_info_bot,\n",
    "    inputs=gr.Textbox(label=\"Hỏi về Cars\"),\n",
    "    outputs=\"text\",\n",
    "    title=\"Chatbot Cars (CSV Local)\",\n",
    "    description=\"Nhập 2-5 từ khoá (hãng, model, phân khúc, giá...), bot sẽ tìm dòng gần nhất trong dataset.\"\n",
    ")\n",
    "\n",
    "demo.launch(share=True)\n"
   ]
  }
 ],
 "metadata": {
  "kernelspec": {
   "display_name": "Python 3",
   "language": "python",
   "name": "python3"
  },
  "language_info": {
   "codemirror_mode": {
    "name": "ipython",
    "version": 3
   },
   "file_extension": ".py",
   "mimetype": "text/x-python",
   "name": "python",
   "nbconvert_exporter": "python",
   "pygments_lexer": "ipython3",
   "version": "3.11.9"
  }
 },
 "nbformat": 4,
 "nbformat_minor": 5
}
